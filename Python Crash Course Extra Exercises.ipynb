{
 "cells": [
  {
   "cell_type": "markdown",
   "metadata": {},
   "source": [
    "\n",
    "\n",
    "# Extra Exercises \n",
    "\n"
   ]
  },
  {
   "cell_type": "markdown",
   "metadata": {},
   "source": [
    "Get all items of the below dictionary"
   ]
  },
  {
   "cell_type": "code",
   "execution_count": 1,
   "metadata": {
    "scrolled": true
   },
   "outputs": [],
   "source": [
    "d = {'key1':'item1','key2':'item2'}"
   ]
  },
  {
   "cell_type": "code",
   "execution_count": 2,
   "metadata": {},
   "outputs": [
    {
     "data": {
      "text/plain": [
       "dict_items([('key1', 'item1'), ('key2', 'item2')])"
      ]
     },
     "execution_count": 2,
     "metadata": {},
     "output_type": "execute_result"
    }
   ],
   "source": [
    "d.items()"
   ]
  },
  {
   "cell_type": "markdown",
   "metadata": {},
   "source": [
    "Write a function to get the student resident type and print the tuition fees of the student. If the student is resident, fees is 500 and if the student is non resident, fee is 1000"
   ]
  },
  {
   "cell_type": "code",
   "execution_count": 3,
   "metadata": {},
   "outputs": [],
   "source": [
    "def studentFees(student_type):\n",
    "    if student_type == \"Resident\":\n",
    "        return 500\n",
    "    else:\n",
    "        return 1000"
   ]
  },
  {
   "cell_type": "code",
   "execution_count": 4,
   "metadata": {},
   "outputs": [
    {
     "data": {
      "text/plain": [
       "500"
      ]
     },
     "execution_count": 4,
     "metadata": {},
     "output_type": "execute_result"
    }
   ],
   "source": [
    "studentFees(\"Resident\")"
   ]
  },
  {
   "cell_type": "code",
   "execution_count": 5,
   "metadata": {},
   "outputs": [
    {
     "data": {
      "text/plain": [
       "1000"
      ]
     },
     "execution_count": 5,
     "metadata": {},
     "output_type": "execute_result"
    }
   ],
   "source": [
    "studentFees(\"Non Resident\")"
   ]
  },
  {
   "cell_type": "markdown",
   "metadata": {},
   "source": [
    "Get a decimal number with multiple digits and format it to 2 digits."
   ]
  },
  {
   "cell_type": "code",
   "execution_count": 8,
   "metadata": {},
   "outputs": [],
   "source": [
    "def formatDecimal(d):\n",
    "    return format(d, \".2f\")"
   ]
  },
  {
   "cell_type": "code",
   "execution_count": 9,
   "metadata": {},
   "outputs": [
    {
     "name": "stdout",
     "output_type": "stream",
     "text": [
      "3.46\n"
     ]
    }
   ],
   "source": [
    "print(formatDecimal(3.4567))"
   ]
  },
  {
   "cell_type": "markdown",
   "metadata": {},
   "source": [
    "Print numbers from 0 till a given number"
   ]
  },
  {
   "cell_type": "code",
   "execution_count": 12,
   "metadata": {},
   "outputs": [],
   "source": [
    "def printNum(n):\n",
    "    while n >= 0:\n",
    "        print(n)\n",
    "        n -=1\n",
    "    print(\"All numbers are printed\")"
   ]
  },
  {
   "cell_type": "code",
   "execution_count": 13,
   "metadata": {},
   "outputs": [
    {
     "name": "stdout",
     "output_type": "stream",
     "text": [
      "10\n",
      "9\n",
      "8\n",
      "7\n",
      "6\n",
      "5\n",
      "4\n",
      "3\n",
      "2\n",
      "1\n",
      "0\n",
      "All numbers are printed\n"
     ]
    }
   ],
   "source": [
    "printNum(10)"
   ]
  },
  {
   "cell_type": "markdown",
   "metadata": {},
   "source": [
    "** Print the input var n times **"
   ]
  },
  {
   "cell_type": "code",
   "execution_count": 16,
   "metadata": {},
   "outputs": [],
   "source": [
    "def timesn(var, n):\n",
    "    return var*n"
   ]
  },
  {
   "cell_type": "code",
   "execution_count": 17,
   "metadata": {},
   "outputs": [
    {
     "name": "stdout",
     "output_type": "stream",
     "text": [
      "mahimamahimamahimamahimamahima\n"
     ]
    }
   ],
   "source": [
    "print(timesn(\"mahima\", 5))"
   ]
  },
  {
   "cell_type": "markdown",
   "metadata": {},
   "source": [
    "Find how many numbers between 1 and 100 are lesser than a variable"
   ]
  },
  {
   "cell_type": "code",
   "execution_count": 18,
   "metadata": {},
   "outputs": [
    {
     "name": "stdout",
     "output_type": "stream",
     "text": [
      "49\n"
     ]
    }
   ],
   "source": [
    "var = 50\n",
    "count = 0\n",
    "for i in range(100):\n",
    "    if var > i+1:\n",
    "        count +=1\n",
    "print(count)"
   ]
  },
  {
   "cell_type": "markdown",
   "metadata": {},
   "source": [
    "Given a list of strings, convert them to a list of numeric values"
   ]
  },
  {
   "cell_type": "code",
   "execution_count": 1,
   "metadata": {},
   "outputs": [
    {
     "name": "stdout",
     "output_type": "stream",
     "text": [
      "[10.5, 30.0, 18.5]\n",
      "[10.5, 30.0, 18.5]\n",
      "[10.5, 30.0, 18.5]\n"
     ]
    }
   ],
   "source": [
    "# Task 1\n",
    "list1 = [\"10.5\", \"30\", \"18.5\"]\n",
    "list2 = []\n",
    "\n",
    "# Method 1\n",
    "for l in list1:\n",
    "    list2.append(float(l))\n",
    "print(list2)\n",
    "\n",
    "# Method 2\n",
    "result = map(lambda x: float(x), list1)\n",
    "print(list(result))\n",
    "\n",
    "# Method 3\n",
    "list1 = [float(l) for l in list1]\n",
    "print(list1)"
   ]
  },
  {
   "cell_type": "markdown",
   "metadata": {},
   "source": [
    "Here is a list of some state names that we have pulled in from the web. But as you can see, they need to be cleaned up."
   ]
  },
  {
   "cell_type": "code",
   "execution_count": 2,
   "metadata": {},
   "outputs": [
    {
     "name": "stdout",
     "output_type": "stream",
     "text": [
      "['Utah', 'New York', 'Alabama', 'Wyoming']\n"
     ]
    }
   ],
   "source": [
    "import re\n",
    "states = [\"Utah$$\", \"   New! York\", \"alabama    \",\"Wyoming,,\"]\n",
    "new_states = []\n",
    "for state in states:\n",
    "    new_state = re.sub(\"[^A-Za-z ]+\", \"\", state) # Removes special characters\n",
    "    new_state = new_state.strip() # Removes the leading ad trailing spcaces\n",
    "    new_state = new_state.title() # Capitalize the first character of each word\n",
    "    new_states.append(new_state)\n",
    "print(new_states)"
   ]
  },
  {
   "cell_type": "markdown",
   "metadata": {},
   "source": [
    "Count the number of occurrences of words starting with the letter ‘b’ in the following list, and store the word and count in a dict"
   ]
  },
  {
   "cell_type": "code",
   "execution_count": 3,
   "metadata": {},
   "outputs": [
    {
     "name": "stdout",
     "output_type": "stream",
     "text": [
      "{'bear': 2, 'bee': 3, 'boar': 1}\n"
     ]
    }
   ],
   "source": [
    "list_words = ['bear', 'deer', 'fish', 'bee', 'boar', 'horse', 'cat', 'dog', 'bee', 'bear', 'bee']\n",
    "count = 0\n",
    "dict_b_words = {}\n",
    "for word in list_words:\n",
    "    if word.startswith(\"b\"):\n",
    "        if word in dict_b_words:\n",
    "            dict_b_words[word] += 1\n",
    "        else:\n",
    "            dict_b_words[word] = 1\n",
    "            \n",
    "print(dict_b_words)"
   ]
  },
  {
   "cell_type": "code",
   "execution_count": null,
   "metadata": {},
   "outputs": [],
   "source": []
  }
 ],
 "metadata": {
  "kernelspec": {
   "display_name": "Python 3",
   "language": "python",
   "name": "python3"
  },
  "language_info": {
   "codemirror_mode": {
    "name": "ipython",
    "version": 3
   },
   "file_extension": ".py",
   "mimetype": "text/x-python",
   "name": "python",
   "nbconvert_exporter": "python",
   "pygments_lexer": "ipython3",
   "version": "3.7.3"
  }
 },
 "nbformat": 4,
 "nbformat_minor": 1
}
