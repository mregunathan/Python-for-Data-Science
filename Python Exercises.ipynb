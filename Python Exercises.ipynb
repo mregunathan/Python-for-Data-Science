{
 "cells": [
  {
   "cell_type": "markdown",
   "metadata": {},
   "source": [
    "# <center><underline>IS 6493 - Exercise 1</underline></center>\n",
    "*************"
   ]
  },
  {
   "cell_type": "markdown",
   "metadata": {},
   "source": [
    "## Author: Mahima Regunathan"
   ]
  },
  {
   "cell_type": "code",
   "execution_count": 1,
   "metadata": {},
   "outputs": [
    {
     "name": "stdout",
     "output_type": "stream",
     "text": [
      "James\tI'm learning Python\t100\t200\t#python,#data,#science,#jobs\n",
      "Sara\tI'm new here\t20\t50\t#learn,#excited,#science,#jobs\n",
      "Jill\tThis is the start of my journey\t2\t150\t#learn,#data,#science\n",
      "Maya\tHello everyone\t30\t45\t#data,#python\n",
      "Craig\tNice to meet you\t10\t10\t#big,#data,#python\n",
      "Zac\tWelcome to a new course\t150\t250\t#data,#science\n",
      "Ralph\tThis is going to be great\t45\t100\t#learn,#python,#jobs\n",
      "Homer\tLet's get this started\t50\t100\t#python\n",
      "Jessica\tHello\t2\t6\t#excited\n",
      "Harun\tCant wait for to start learning\t70\t160\t#jobs,#learn,#big,#data\n"
     ]
    }
   ],
   "source": [
    "# Task 1\n",
    "file = open(\"tweets.txt\", \"r\")\n",
    "print(file.read())\n",
    "file.close()"
   ]
  },
  {
   "cell_type": "code",
   "execution_count": 35,
   "metadata": {},
   "outputs": [
    {
     "name": "stdout",
     "output_type": "stream",
     "text": [
      "['user', 'msg', 'retweet', 'likes', 'hashtags']\n"
     ]
    }
   ],
   "source": [
    "# Task 2\n",
    "list_of_fields = [\"user\", \"msg\", \"retweet\", \"likes\", \"hashtags\"]\n",
    "print(list_of_fields)"
   ]
  },
  {
   "cell_type": "code",
   "execution_count": 19,
   "metadata": {},
   "outputs": [
    {
     "name": "stdout",
     "output_type": "stream",
     "text": [
      "[{'user': 'James', 'msg': \"I'm learning Python\", 'retweet': 100, 'likes': 200, 'hashtags': ['#python', '#data', '#science', '#jobs']}, {'user': 'Sara', 'msg': \"I'm new here\", 'retweet': 20, 'likes': 50, 'hashtags': ['#learn', '#excited', '#science', '#jobs']}, {'user': 'Jill', 'msg': 'This is the start of my journey', 'retweet': 2, 'likes': 150, 'hashtags': ['#learn', '#data', '#science']}, {'user': 'Maya', 'msg': 'Hello everyone', 'retweet': 30, 'likes': 45, 'hashtags': ['#data', '#python']}, {'user': 'Craig', 'msg': 'Nice to meet you', 'retweet': 10, 'likes': 10, 'hashtags': ['#big', '#data', '#python']}, {'user': 'Zac', 'msg': 'Welcome to a new course', 'retweet': 150, 'likes': 250, 'hashtags': ['#data', '#science']}, {'user': 'Ralph', 'msg': 'This is going to be great', 'retweet': 45, 'likes': 100, 'hashtags': ['#learn', '#python', '#jobs']}, {'user': 'Homer', 'msg': \"Let's get this started\", 'retweet': 50, 'likes': 100, 'hashtags': ['#python']}, {'user': 'Jessica', 'msg': 'Hello', 'retweet': 2, 'likes': 6, 'hashtags': ['#excited']}, {'user': 'Harun', 'msg': 'Cant wait for to start learning', 'retweet': 70, 'likes': 160, 'hashtags': ['#jobs', '#learn', '#big', '#data']}]\n"
     ]
    }
   ],
   "source": [
    "# Task 3\n",
    "with open(\"tweets.txt\", \"r\") as file:\n",
    "    list_of_dict = []\n",
    "    #Read all the lines from the file\n",
    "    lines = file.readlines()\n",
    "    for line in lines:\n",
    "        tweetdict = {}\n",
    "        # Splitting the line by \\t\n",
    "        str = line.split(\"\\t\")\n",
    "        \n",
    "        # Data cleaning for fields\n",
    "        user_name = str[0]\n",
    "        msg = str[1]\n",
    "        retweet = int(str[2])\n",
    "        likes = int(str[3])\n",
    "        hashtags_str = str[4]\n",
    "        hashtags_str = hashtags_str.replace(\"\\n\", \"\")\n",
    "        hashtags = hashtags_str.split(\",\")\n",
    "        \n",
    "        # Storing the key-value pairs in dictionary\n",
    "        tweetdict[\"user\"] = user_name\n",
    "        tweetdict[\"msg\"] = msg\n",
    "        tweetdict[\"retweet\"] = retweet\n",
    "        tweetdict[\"likes\"] = likes\n",
    "        tweetdict[\"hashtags\"] = hashtags\n",
    "        \n",
    "        list_of_dict.append(tweetdict)\n",
    "    \n",
    "    print(list_of_dict)"
   ]
  },
  {
   "cell_type": "code",
   "execution_count": 13,
   "metadata": {},
   "outputs": [
    {
     "name": "stdout",
     "output_type": "stream",
     "text": [
      "James\n",
      "Sara\n",
      "Jill\n",
      "Maya\n",
      "Craig\n",
      "Zac\n",
      "Ralph\n",
      "Homer\n",
      "Jessica\n",
      "Harun\n"
     ]
    }
   ],
   "source": [
    "# Task 4\n",
    "for d in list_of_dict:\n",
    "    print(d[\"user\"])"
   ]
  },
  {
   "cell_type": "code",
   "execution_count": 25,
   "metadata": {},
   "outputs": [
    {
     "name": "stdout",
     "output_type": "stream",
     "text": [
      "Craig ** Harun ** Homer ** James ** Jessica ** Jill ** Maya ** Ralph ** Sara ** Zac ** "
     ]
    }
   ],
   "source": [
    "# Task 5\n",
    "list_of_dict.sort(key=lambda k: k['user'])\n",
    "for d in list_of_dict:\n",
    "    print(d[\"user\"], end=\" ** \")"
   ]
  },
  {
   "cell_type": "code",
   "execution_count": 43,
   "metadata": {},
   "outputs": [
    {
     "name": "stdout",
     "output_type": "stream",
     "text": [
      "Sum of all retweets over all users: 479\n"
     ]
    }
   ],
   "source": [
    "# Task 6\n",
    "sum_retweet = 0\n",
    "for d in list_of_dict:\n",
    "    sum_retweet += d[\"retweet\"]\n",
    "print(\"Sum of all retweets over all users:\", sum_retweet)"
   ]
  },
  {
   "cell_type": "code",
   "execution_count": 42,
   "metadata": {},
   "outputs": [
    {
     "name": "stdout",
     "output_type": "stream",
     "text": [
      "Total likes: 1071\n",
      "Total retweet: 479\n"
     ]
    }
   ],
   "source": [
    "# Task 7\n",
    "#function to calculate total based on key\n",
    "def calc_total(alist, akey):\n",
    "    sum = 0\n",
    "    for d in alist:\n",
    "        sum += d[akey]\n",
    "    return sum\n",
    "\n",
    "print(\"Total likes:\", calc_total(list_of_dict, \"likes\"))\n",
    "print(\"Total retweet:\", calc_total(list_of_dict, \"retweet\"))\n",
    "    \n",
    "    "
   ]
  },
  {
   "cell_type": "code",
   "execution_count": 41,
   "metadata": {
    "scrolled": true
   },
   "outputs": [
    {
     "name": "stdout",
     "output_type": "stream",
     "text": [
      "['#big', '#data', '#python', '#jobs', '#learn', '#big', '#data', '#python', '#python', '#data', '#science', '#jobs', '#excited', '#learn', '#data', '#science', '#data', '#python', '#learn', '#python', '#jobs', '#learn', '#excited', '#science', '#jobs', '#data', '#science']\n"
     ]
    }
   ],
   "source": [
    "# Task 8\n",
    "list_hashtag = [] # list of hashtags\n",
    "for d in list_of_dict:\n",
    "    for s in d[\"hashtags\"]:\n",
    "        list_hashtag.append(s)\n",
    "    \n",
    "print(list_hashtag)"
   ]
  },
  {
   "cell_type": "code",
   "execution_count": 40,
   "metadata": {},
   "outputs": [
    {
     "name": "stdout",
     "output_type": "stream",
     "text": [
      "['#science', '#python', '#learn', '#jobs', '#excited', '#data', '#big']\n"
     ]
    }
   ],
   "source": [
    "# Task 9\n",
    "set_hashtag = set(list_hashtag) # unique hashtags\n",
    "set_hashtag = sorted(set_hashtag, reverse=True)\n",
    "print(set_hashtag)"
   ]
  },
  {
   "cell_type": "code",
   "execution_count": 39,
   "metadata": {},
   "outputs": [
    {
     "name": "stdout",
     "output_type": "stream",
     "text": [
      "{'#big': 2, '#data': 6, '#python': 5, '#jobs': 4, '#learn': 4, '#science': 4, '#excited': 2}\n"
     ]
    }
   ],
   "source": [
    "# Task 10A\n",
    "tag_counts = {} # count of each hashtag\n",
    "for d in list_of_dict:\n",
    "    for s in d[\"hashtags\"]:\n",
    "        if s in tag_counts:\n",
    "            tag_counts[s] += 1\n",
    "        else:\n",
    "            tag_counts[s] = 1\n",
    "print(tag_counts)"
   ]
  },
  {
   "cell_type": "code",
   "execution_count": 38,
   "metadata": {},
   "outputs": [
    {
     "name": "stdout",
     "output_type": "stream",
     "text": [
      "[('#big', 2), ('#excited', 2), ('#jobs', 4), ('#learn', 4), ('#science', 4), ('#python', 5), ('#data', 6)]\n"
     ]
    }
   ],
   "source": [
    "# Task 10B\n",
    "sorted_tag_counts = sorted(tag_counts.items(), key=lambda k: k[1])\n",
    "print(sorted_tag_counts)"
   ]
  },
  {
   "cell_type": "code",
   "execution_count": 37,
   "metadata": {},
   "outputs": [
    {
     "name": "stdout",
     "output_type": "stream",
     "text": [
      "{'#science': ['James', 'Jill', 'Sara', 'Zac'], '#python': ['Craig', 'Homer', 'James', 'Maya', 'Ralph'], '#learn': ['Harun', 'Jill', 'Ralph', 'Sara'], '#jobs': ['Harun', 'James', 'Ralph', 'Sara'], '#excited': ['Jessica', 'Sara'], '#data': ['Craig', 'Harun', 'James', 'Jill', 'Maya', 'Zac'], '#big': ['Craig', 'Harun']}\n"
     ]
    }
   ],
   "source": [
    "# Task 11\n",
    "hashtag_user = {} # hashtag with user\n",
    "for sh in set_hashtag:\n",
    "    hashtag_user[sh] = []\n",
    "    for d in list_of_dict:\n",
    "        if sh in d[\"hashtags\"]:\n",
    "            hashtag_user[sh].append(d[\"user\"])\n",
    "print(hashtag_user)"
   ]
  },
  {
   "cell_type": "code",
   "execution_count": null,
   "metadata": {},
   "outputs": [],
   "source": []
  }
 ],
 "metadata": {
  "kernelspec": {
   "display_name": "Python 3",
   "language": "python",
   "name": "python3"
  },
  "language_info": {
   "codemirror_mode": {
    "name": "ipython",
    "version": 3
   },
   "file_extension": ".py",
   "mimetype": "text/x-python",
   "name": "python",
   "nbconvert_exporter": "python",
   "pygments_lexer": "ipython3",
   "version": "3.7.3"
  }
 },
 "nbformat": 4,
 "nbformat_minor": 2
}
